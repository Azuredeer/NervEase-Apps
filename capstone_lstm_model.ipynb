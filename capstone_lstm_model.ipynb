{
  "cells": [
    {
      "cell_type": "code",
      "execution_count": 29,
      "metadata": {
        "id": "qLdPTErx3yNo"
      },
      "outputs": [],
      "source": [
        "import pandas as pd\n",
        "import string\n",
        "import datetime as dt\n",
        "import numpy as np\n",
        "import os\n",
        "import re\n",
        "import csv\n",
        "import requests\n",
        "from io import StringIO\n",
        "import matplotlib.pyplot as plt\n",
        "import seaborn as sns\n",
        "\n",
        "df1 = pd.read_csv('preprocessed_dataset.csv')"
      ]
    },
    {
      "cell_type": "code",
      "execution_count": 30,
      "metadata": {
        "id": "0CgLs8oNbBu6"
      },
      "outputs": [],
      "source": [
        "from sklearn.feature_extraction.text import TfidfVectorizer\n",
        "from sklearn.model_selection import train_test_split, GridSearchCV\n",
        "from sklearn.metrics import accuracy_score, precision_score\n",
        "from sklearn.preprocessing import LabelEncoder\n",
        "import tensorflow as tf\n",
        "from tensorflow.keras.preprocessing.text import Tokenizer\n",
        "from tensorflow.keras.preprocessing.sequence import pad_sequences\n",
        "from tensorflow.keras.models import Sequential\n",
        "from tensorflow.keras.layers import LSTM, Embedding, Dropout, Dense, Flatten, SpatialDropout1D, Conv1D, GlobalMaxPooling1D, Bidirectional, MaxPooling1D\n",
        "from tensorflow.keras.utils import to_categorical\n",
        "from tensorflow.keras.callbacks import EarlyStopping, Callback\n",
        "from tensorflow.keras.regularizers import l2\n",
        "from tensorflow.keras.optimizers import Adam"
      ]
    },
    {
      "cell_type": "code",
      "execution_count": 31,
      "metadata": {
        "colab": {
          "base_uri": "https://localhost:8080/",
          "height": 1000
        },
        "id": "VWSHVJjs5F_n",
        "outputId": "be75fd5c-b6c8-4d77-b32f-74f9dc5bcb0f"
      },
      "outputs": [
        {
          "data": {
            "text/html": [
              "<div>\n",
              "<style scoped>\n",
              "    .dataframe tbody tr th:only-of-type {\n",
              "        vertical-align: middle;\n",
              "    }\n",
              "\n",
              "    .dataframe tbody tr th {\n",
              "        vertical-align: top;\n",
              "    }\n",
              "\n",
              "    .dataframe thead th {\n",
              "        text-align: right;\n",
              "    }\n",
              "</style>\n",
              "<table border=\"1\" class=\"dataframe\">\n",
              "  <thead>\n",
              "    <tr style=\"text-align: right;\">\n",
              "      <th></th>\n",
              "      <th>original</th>\n",
              "      <th>translated</th>\n",
              "      <th>cleaned_text</th>\n",
              "      <th>label</th>\n",
              "      <th>casefolded</th>\n",
              "      <th>tokenized</th>\n",
              "      <th>filtered</th>\n",
              "      <th>stemmed</th>\n",
              "      <th>final_sentence</th>\n",
              "    </tr>\n",
              "  </thead>\n",
              "  <tbody>\n",
              "    <tr>\n",
              "      <th>0</th>\n",
              "      <td>My father - all of my life - has shifted betwe...</td>\n",
              "      <td>Ayah saya - sepanjang hidup saya - telah berge...</td>\n",
              "      <td>Ayah saya sepanjang hidup saya telah bergeser ...</td>\n",
              "      <td>0</td>\n",
              "      <td>ayah saya sepanjang hidup saya telah bergeser ...</td>\n",
              "      <td>['ayah', 'saya', 'sepanjang', 'hidup', 'saya',...</td>\n",
              "      <td>['ayah', 'hidup', 'bergeser', 'monster', 'terb...</td>\n",
              "      <td>['ayah', 'hidup', 'geser', 'monster', 'baik', ...</td>\n",
              "      <td>ayah hidup geser monster baik dukung tenang po...</td>\n",
              "    </tr>\n",
              "    <tr>\n",
              "      <th>1</th>\n",
              "      <td>I have health anxiety where I go to the doctor...</td>\n",
              "      <td>Saya memiliki kecemasan kesehatan di mana saya...</td>\n",
              "      <td>Saya memiliki kecemasan kesehatan di mana saya...</td>\n",
              "      <td>3</td>\n",
              "      <td>saya memiliki kecemasan kesehatan di mana saya...</td>\n",
              "      <td>['saya', 'memiliki', 'kecemasan', 'kesehatan',...</td>\n",
              "      <td>['kecemasan', 'kesehatan', 'pergi', 'dokter', ...</td>\n",
              "      <td>['cemas', 'sehat', 'pergi', 'dokter', 'sakit',...</td>\n",
              "      <td>cemas sehat pergi dokter sakit kepala sederhan...</td>\n",
              "    </tr>\n",
              "    <tr>\n",
              "      <th>2</th>\n",
              "      <td>I was thinking about the differences between B...</td>\n",
              "      <td>Saya sedang memikirkan perbedaan antara BPD da...</td>\n",
              "      <td>Saya sedang memikirkan perbedaan antara BPD da...</td>\n",
              "      <td>0</td>\n",
              "      <td>saya sedang memikirkan perbedaan antara bpd da...</td>\n",
              "      <td>['saya', 'sedang', 'memikirkan', 'perbedaan', ...</td>\n",
              "      <td>['memikirkan', 'perbedaan', 'bpd', 'cptsd', 'a...</td>\n",
              "      <td>['pikir', 'beda', 'bpd', 'cptsd', 'aspek', 'ut...</td>\n",
              "      <td>pikir beda bpd cptsd aspek utama bpd alami tra...</td>\n",
              "    </tr>\n",
              "    <tr>\n",
              "      <th>3</th>\n",
              "      <td>Let me preface this by saying that I promise I...</td>\n",
              "      <td>Izinkan saya mengawali ini dengan mengatakan b...</td>\n",
              "      <td>Izinkan saya mengawali ini dengan mengatakan b...</td>\n",
              "      <td>2</td>\n",
              "      <td>izinkan saya mengawali ini dengan mengatakan b...</td>\n",
              "      <td>['izinkan', 'saya', 'mengawali', 'ini', 'denga...</td>\n",
              "      <td>['izinkan', 'mengawali', 'berjanji', 'berbicar...</td>\n",
              "      <td>['izin', 'awal', 'janji', 'bicara', 'terap', '...</td>\n",
              "      <td>izin awal janji bicara terap percaya rabu deti...</td>\n",
              "    </tr>\n",
              "    <tr>\n",
              "      <th>4</th>\n",
              "      <td>I've been exploring this forum for awhile, and...</td>\n",
              "      <td>Saya telah menjelajahi forum ini untuk sementa...</td>\n",
              "      <td>Saya telah menjelajahi forum ini untuk sementa...</td>\n",
              "      <td>0</td>\n",
              "      <td>saya telah menjelajahi forum ini untuk sementa...</td>\n",
              "      <td>['saya', 'telah', 'menjelajahi', 'forum', 'ini...</td>\n",
              "      <td>['menjelajahi', 'forum', 'tes', 'bpd', 'konyol...</td>\n",
              "      <td>['jajah', 'forum', 'tes', 'bpd', 'konyol', 'on...</td>\n",
              "      <td>jajah forum tes bpd konyol online dasar asa ma...</td>\n",
              "    </tr>\n",
              "    <tr>\n",
              "      <th>...</th>\n",
              "      <td>...</td>\n",
              "      <td>...</td>\n",
              "      <td>...</td>\n",
              "      <td>...</td>\n",
              "      <td>...</td>\n",
              "      <td>...</td>\n",
              "      <td>...</td>\n",
              "      <td>...</td>\n",
              "      <td>...</td>\n",
              "    </tr>\n",
              "    <tr>\n",
              "      <th>32525</th>\n",
              "      <td>Hi everyone,\\n\\nI’m scared of something that h...</td>\n",
              "      <td>Hai semuanya,\\n\\nSaya takut pada sesuatu yang ...</td>\n",
              "      <td>Hai semuanya Saya takut pada sesuatu yang terj...</td>\n",
              "      <td>3</td>\n",
              "      <td>hai semuanya saya takut pada sesuatu yang terj...</td>\n",
              "      <td>['hai', 'semuanya', 'saya', 'takut', 'pada', '...</td>\n",
              "      <td>['hai', 'takut', '17', 'minggu', '2', 'berhubu...</td>\n",
              "      <td>['hai', 'takut', '17', 'minggu', '2', 'hubung'...</td>\n",
              "      <td>hai takut 17 minggu 2 hubung seks gadis hookup...</td>\n",
              "    </tr>\n",
              "    <tr>\n",
              "      <th>32526</th>\n",
              "      <td>I keep having a lot of recent health anxiety r...</td>\n",
              "      <td>Saya terus mengalami banyak mimpi terkait kece...</td>\n",
              "      <td>Saya terus mengalami banyak mimpi terkait kece...</td>\n",
              "      <td>3</td>\n",
              "      <td>saya terus mengalami banyak mimpi terkait kece...</td>\n",
              "      <td>['saya', 'terus', 'mengalami', 'banyak', 'mimp...</td>\n",
              "      <td>['mengalami', 'mimpi', 'terkait', 'kecemasan',...</td>\n",
              "      <td>['alami', 'mimpi', 'kait', 'cemas', 'sehat', '...</td>\n",
              "      <td>alami mimpi kait cemas sehat dengar suara suar...</td>\n",
              "    </tr>\n",
              "    <tr>\n",
              "      <th>32527</th>\n",
              "      <td>I'm not diagnosed with BPD but identify with a...</td>\n",
              "      <td>Saya tidak didiagnosis dengan BPD tetapi mengi...</td>\n",
              "      <td>Saya tidak didiagnosis dengan BPD tetapi mengi...</td>\n",
              "      <td>0</td>\n",
              "      <td>saya tidak didiagnosis dengan bpd tetapi mengi...</td>\n",
              "      <td>['saya', 'tidak', 'didiagnosis', 'dengan', 'bp...</td>\n",
              "      <td>['didiagnosis', 'bpd', 'mengidentifikasi', 'ge...</td>\n",
              "      <td>['diagnosis', 'bpd', 'identifikasi', 'gejala',...</td>\n",
              "      <td>diagnosis bpd identifikasi gejala sesal mempos...</td>\n",
              "    </tr>\n",
              "    <tr>\n",
              "      <th>32528</th>\n",
              "      <td>Whenever I'm panicking about something, and so...</td>\n",
              "      <td>Setiap kali saya panik tentang sesuatu, dan ka...</td>\n",
              "      <td>Setiap kali saya panik tentang sesuatu dan kad...</td>\n",
              "      <td>3</td>\n",
              "      <td>setiap kali saya panik tentang sesuatu dan kad...</td>\n",
              "      <td>['setiap', 'kali', 'saya', 'panik', 'tentang',...</td>\n",
              "      <td>['kali', 'panik', 'kadang', 'kadang', 'alasan'...</td>\n",
              "      <td>['kali', 'panik', 'kadang', 'kadang', 'alas', ...</td>\n",
              "      <td>kali panik kadang kadang alas tenggorok tutup ...</td>\n",
              "    </tr>\n",
              "    <tr>\n",
              "      <th>32529</th>\n",
              "      <td>So last night my mom was obviously dealing wit...</td>\n",
              "      <td>Jadi tadi malam ibuku jelas berurusan dengan b...</td>\n",
              "      <td>Jadi tadi malam ibuku jelas berurusan dengan b...</td>\n",
              "      <td>3</td>\n",
              "      <td>jadi tadi malam ibuku jelas berurusan dengan b...</td>\n",
              "      <td>['jadi', 'tadi', 'malam', 'ibuku', 'jelas', 'b...</td>\n",
              "      <td>['malam', 'ibuku', 'berurusan', 'kecemasan', '...</td>\n",
              "      <td>['malam', 'ibu', 'urus', 'cemas', 'depresi', '...</td>\n",
              "      <td>malam ibu urus cemas depresi maaf bahagia unju...</td>\n",
              "    </tr>\n",
              "  </tbody>\n",
              "</table>\n",
              "<p>32530 rows × 9 columns</p>\n",
              "</div>"
            ],
            "text/plain": [
              "                                                original  \\\n",
              "0      My father - all of my life - has shifted betwe...   \n",
              "1      I have health anxiety where I go to the doctor...   \n",
              "2      I was thinking about the differences between B...   \n",
              "3      Let me preface this by saying that I promise I...   \n",
              "4      I've been exploring this forum for awhile, and...   \n",
              "...                                                  ...   \n",
              "32525  Hi everyone,\\n\\nI’m scared of something that h...   \n",
              "32526  I keep having a lot of recent health anxiety r...   \n",
              "32527  I'm not diagnosed with BPD but identify with a...   \n",
              "32528  Whenever I'm panicking about something, and so...   \n",
              "32529  So last night my mom was obviously dealing wit...   \n",
              "\n",
              "                                              translated  \\\n",
              "0      Ayah saya - sepanjang hidup saya - telah berge...   \n",
              "1      Saya memiliki kecemasan kesehatan di mana saya...   \n",
              "2      Saya sedang memikirkan perbedaan antara BPD da...   \n",
              "3      Izinkan saya mengawali ini dengan mengatakan b...   \n",
              "4      Saya telah menjelajahi forum ini untuk sementa...   \n",
              "...                                                  ...   \n",
              "32525  Hai semuanya,\\n\\nSaya takut pada sesuatu yang ...   \n",
              "32526  Saya terus mengalami banyak mimpi terkait kece...   \n",
              "32527  Saya tidak didiagnosis dengan BPD tetapi mengi...   \n",
              "32528  Setiap kali saya panik tentang sesuatu, dan ka...   \n",
              "32529  Jadi tadi malam ibuku jelas berurusan dengan b...   \n",
              "\n",
              "                                            cleaned_text  label  \\\n",
              "0      Ayah saya sepanjang hidup saya telah bergeser ...      0   \n",
              "1      Saya memiliki kecemasan kesehatan di mana saya...      3   \n",
              "2      Saya sedang memikirkan perbedaan antara BPD da...      0   \n",
              "3      Izinkan saya mengawali ini dengan mengatakan b...      2   \n",
              "4      Saya telah menjelajahi forum ini untuk sementa...      0   \n",
              "...                                                  ...    ...   \n",
              "32525  Hai semuanya Saya takut pada sesuatu yang terj...      3   \n",
              "32526  Saya terus mengalami banyak mimpi terkait kece...      3   \n",
              "32527  Saya tidak didiagnosis dengan BPD tetapi mengi...      0   \n",
              "32528  Setiap kali saya panik tentang sesuatu dan kad...      3   \n",
              "32529  Jadi tadi malam ibuku jelas berurusan dengan b...      3   \n",
              "\n",
              "                                              casefolded  \\\n",
              "0      ayah saya sepanjang hidup saya telah bergeser ...   \n",
              "1      saya memiliki kecemasan kesehatan di mana saya...   \n",
              "2      saya sedang memikirkan perbedaan antara bpd da...   \n",
              "3      izinkan saya mengawali ini dengan mengatakan b...   \n",
              "4      saya telah menjelajahi forum ini untuk sementa...   \n",
              "...                                                  ...   \n",
              "32525  hai semuanya saya takut pada sesuatu yang terj...   \n",
              "32526  saya terus mengalami banyak mimpi terkait kece...   \n",
              "32527  saya tidak didiagnosis dengan bpd tetapi mengi...   \n",
              "32528  setiap kali saya panik tentang sesuatu dan kad...   \n",
              "32529  jadi tadi malam ibuku jelas berurusan dengan b...   \n",
              "\n",
              "                                               tokenized  \\\n",
              "0      ['ayah', 'saya', 'sepanjang', 'hidup', 'saya',...   \n",
              "1      ['saya', 'memiliki', 'kecemasan', 'kesehatan',...   \n",
              "2      ['saya', 'sedang', 'memikirkan', 'perbedaan', ...   \n",
              "3      ['izinkan', 'saya', 'mengawali', 'ini', 'denga...   \n",
              "4      ['saya', 'telah', 'menjelajahi', 'forum', 'ini...   \n",
              "...                                                  ...   \n",
              "32525  ['hai', 'semuanya', 'saya', 'takut', 'pada', '...   \n",
              "32526  ['saya', 'terus', 'mengalami', 'banyak', 'mimp...   \n",
              "32527  ['saya', 'tidak', 'didiagnosis', 'dengan', 'bp...   \n",
              "32528  ['setiap', 'kali', 'saya', 'panik', 'tentang',...   \n",
              "32529  ['jadi', 'tadi', 'malam', 'ibuku', 'jelas', 'b...   \n",
              "\n",
              "                                                filtered  \\\n",
              "0      ['ayah', 'hidup', 'bergeser', 'monster', 'terb...   \n",
              "1      ['kecemasan', 'kesehatan', 'pergi', 'dokter', ...   \n",
              "2      ['memikirkan', 'perbedaan', 'bpd', 'cptsd', 'a...   \n",
              "3      ['izinkan', 'mengawali', 'berjanji', 'berbicar...   \n",
              "4      ['menjelajahi', 'forum', 'tes', 'bpd', 'konyol...   \n",
              "...                                                  ...   \n",
              "32525  ['hai', 'takut', '17', 'minggu', '2', 'berhubu...   \n",
              "32526  ['mengalami', 'mimpi', 'terkait', 'kecemasan',...   \n",
              "32527  ['didiagnosis', 'bpd', 'mengidentifikasi', 'ge...   \n",
              "32528  ['kali', 'panik', 'kadang', 'kadang', 'alasan'...   \n",
              "32529  ['malam', 'ibuku', 'berurusan', 'kecemasan', '...   \n",
              "\n",
              "                                                 stemmed  \\\n",
              "0      ['ayah', 'hidup', 'geser', 'monster', 'baik', ...   \n",
              "1      ['cemas', 'sehat', 'pergi', 'dokter', 'sakit',...   \n",
              "2      ['pikir', 'beda', 'bpd', 'cptsd', 'aspek', 'ut...   \n",
              "3      ['izin', 'awal', 'janji', 'bicara', 'terap', '...   \n",
              "4      ['jajah', 'forum', 'tes', 'bpd', 'konyol', 'on...   \n",
              "...                                                  ...   \n",
              "32525  ['hai', 'takut', '17', 'minggu', '2', 'hubung'...   \n",
              "32526  ['alami', 'mimpi', 'kait', 'cemas', 'sehat', '...   \n",
              "32527  ['diagnosis', 'bpd', 'identifikasi', 'gejala',...   \n",
              "32528  ['kali', 'panik', 'kadang', 'kadang', 'alas', ...   \n",
              "32529  ['malam', 'ibu', 'urus', 'cemas', 'depresi', '...   \n",
              "\n",
              "                                          final_sentence  \n",
              "0      ayah hidup geser monster baik dukung tenang po...  \n",
              "1      cemas sehat pergi dokter sakit kepala sederhan...  \n",
              "2      pikir beda bpd cptsd aspek utama bpd alami tra...  \n",
              "3      izin awal janji bicara terap percaya rabu deti...  \n",
              "4      jajah forum tes bpd konyol online dasar asa ma...  \n",
              "...                                                  ...  \n",
              "32525  hai takut 17 minggu 2 hubung seks gadis hookup...  \n",
              "32526  alami mimpi kait cemas sehat dengar suara suar...  \n",
              "32527  diagnosis bpd identifikasi gejala sesal mempos...  \n",
              "32528  kali panik kadang kadang alas tenggorok tutup ...  \n",
              "32529  malam ibu urus cemas depresi maaf bahagia unju...  \n",
              "\n",
              "[32530 rows x 9 columns]"
            ]
          },
          "execution_count": 31,
          "metadata": {},
          "output_type": "execute_result"
        }
      ],
      "source": [
        "#data 32k pertama\n",
        "df1"
      ]
    },
    {
      "cell_type": "code",
      "execution_count": 32,
      "metadata": {
        "colab": {
          "base_uri": "https://localhost:8080/"
        },
        "id": "lxdslzJ_5Quy",
        "outputId": "6aed3b8a-a010-41a6-cafd-d1378404410a"
      },
      "outputs": [
        {
          "name": "stdout",
          "output_type": "stream",
          "text": [
            "(32530, 9)\n"
          ]
        }
      ],
      "source": [
        "print(df1.shape)"
      ]
    },
    {
      "cell_type": "code",
      "execution_count": 33,
      "metadata": {
        "colab": {
          "base_uri": "https://localhost:8080/"
        },
        "id": "caH45Lpz5TPo",
        "outputId": "692c81e2-e027-4b40-dc55-6c1527ab702e"
      },
      "outputs": [
        {
          "name": "stdout",
          "output_type": "stream",
          "text": [
            "<class 'pandas.core.frame.DataFrame'>\n",
            "RangeIndex: 32530 entries, 0 to 32529\n",
            "Data columns (total 9 columns):\n",
            " #   Column          Non-Null Count  Dtype \n",
            "---  ------          --------------  ----- \n",
            " 0   original        32530 non-null  object\n",
            " 1   translated      32530 non-null  object\n",
            " 2   cleaned_text    32530 non-null  object\n",
            " 3   label           32530 non-null  int64 \n",
            " 4   casefolded      32530 non-null  object\n",
            " 5   tokenized       32530 non-null  object\n",
            " 6   filtered        32530 non-null  object\n",
            " 7   stemmed         32530 non-null  object\n",
            " 8   final_sentence  32485 non-null  object\n",
            "dtypes: int64(1), object(8)\n",
            "memory usage: 2.2+ MB\n"
          ]
        }
      ],
      "source": [
        "df1.info()"
      ]
    },
    {
      "cell_type": "code",
      "execution_count": 34,
      "metadata": {
        "id": "AKSLcHvVzsHJ"
      },
      "outputs": [],
      "source": [
        "df1_clean = df1.dropna()"
      ]
    },
    {
      "cell_type": "code",
      "execution_count": 35,
      "metadata": {
        "id": "i58FtIIQuIQL"
      },
      "outputs": [],
      "source": [
        "#data 23k kedua\n",
        "df2 = pd.read_csv('preprocessed_dataset2.csv')"
      ]
    },
    {
      "cell_type": "code",
      "execution_count": 36,
      "metadata": {
        "colab": {
          "base_uri": "https://localhost:8080/",
          "height": 1000
        },
        "id": "FBuiN1mwpvsP",
        "outputId": "42b787da-11b2-4d23-d812-50d4fac0b7f6"
      },
      "outputs": [
        {
          "data": {
            "text/html": [
              "<div>\n",
              "<style scoped>\n",
              "    .dataframe tbody tr th:only-of-type {\n",
              "        vertical-align: middle;\n",
              "    }\n",
              "\n",
              "    .dataframe tbody tr th {\n",
              "        vertical-align: top;\n",
              "    }\n",
              "\n",
              "    .dataframe thead th {\n",
              "        text-align: right;\n",
              "    }\n",
              "</style>\n",
              "<table border=\"1\" class=\"dataframe\">\n",
              "  <thead>\n",
              "    <tr style=\"text-align: right;\">\n",
              "      <th></th>\n",
              "      <th>original</th>\n",
              "      <th>translated</th>\n",
              "      <th>cleaned_text</th>\n",
              "      <th>label</th>\n",
              "      <th>casefolded</th>\n",
              "      <th>tokenized</th>\n",
              "      <th>filtered</th>\n",
              "      <th>stemmed</th>\n",
              "      <th>final_sentence</th>\n",
              "    </tr>\n",
              "  </thead>\n",
              "  <tbody>\n",
              "    <tr>\n",
              "      <th>0</th>\n",
              "      <td>And I think that's the worst part. The BPD alr...</td>\n",
              "      <td>Dan saya pikir itu bagian terburuk. BPD sudah ...</td>\n",
              "      <td>Dan saya pikir itu bagian terburuk BPD sudah m...</td>\n",
              "      <td>0</td>\n",
              "      <td>dan saya pikir itu bagian terburuk bpd sudah m...</td>\n",
              "      <td>['dan', 'saya', 'pikir', 'itu', 'bagian', 'ter...</td>\n",
              "      <td>['pikir', 'terburuk', 'bpd', 'berjuang', 'peng...</td>\n",
              "      <td>['pikir', 'buruk', 'bpd', 'juang', 'abai', 'al...</td>\n",
              "      <td>pikir buruk bpd juang abai alami episode erti ...</td>\n",
              "    </tr>\n",
              "    <tr>\n",
              "      <th>1</th>\n",
              "      <td>How do you deal with it when you’re already de...</td>\n",
              "      <td>Bagaimana Anda menghadapinya saat Anda sudah t...</td>\n",
              "      <td>Bagaimana Anda menghadapinya saat Anda sudah t...</td>\n",
              "      <td>2</td>\n",
              "      <td>bagaimana anda menghadapinya saat anda sudah t...</td>\n",
              "      <td>['bagaimana', 'anda', 'menghadapinya', 'saat',...</td>\n",
              "      <td>['menghadapinya', 'tertekan']</td>\n",
              "      <td>['hadap', 'tekan']</td>\n",
              "      <td>hadap tekan</td>\n",
              "    </tr>\n",
              "    <tr>\n",
              "      <th>2</th>\n",
              "      <td>**im not going to do anything to myself nor am...</td>\n",
              "      <td>** Saya tidak akan melakukan apa pun untuk dir...</td>\n",
              "      <td>Saya tidak akan melakukan apa pun untuk diri s...</td>\n",
              "      <td>0</td>\n",
              "      <td>saya tidak akan melakukan apa pun untuk diri s...</td>\n",
              "      <td>['saya', 'tidak', 'akan', 'melakukan', 'apa', ...</td>\n",
              "      <td>['berpikir', 'tinggal', 'tunangan', 'satunya',...</td>\n",
              "      <td>['pikir', 'tinggal', 'tunang', 'satu', 'tahun'...</td>\n",
              "      <td>pikir tinggal tunang satu tahun omong kosong p...</td>\n",
              "    </tr>\n",
              "    <tr>\n",
              "      <th>3</th>\n",
              "      <td>What causes or tiggers panic attacks when you ...</td>\n",
              "      <td>Apa yang menyebabkan atau menyerang Panik Tigg...</td>\n",
              "      <td>Apa yang menyebabkan atau menyerang Panik Tigg...</td>\n",
              "      <td>3</td>\n",
              "      <td>apa yang menyebabkan atau menyerang panik tigg...</td>\n",
              "      <td>['apa', 'yang', 'menyebabkan', 'atau', 'menyer...</td>\n",
              "      <td>['menyebabkan', 'menyerang', 'panik', 'tiggers...</td>\n",
              "      <td>['sebab', 'serang', 'panik', 'tiggers', 'bangu...</td>\n",
              "      <td>sebab serang panik tiggers bangun alami lelah ...</td>\n",
              "    </tr>\n",
              "    <tr>\n",
              "      <th>4</th>\n",
              "      <td>I turned 21 about a month ago and I took on ab...</td>\n",
              "      <td>Saya berusia 21 tahun sekitar sebulan yang lal...</td>\n",
              "      <td>Saya berusia 21 tahun sekitar sebulan yang lal...</td>\n",
              "      <td>2</td>\n",
              "      <td>saya berusia 21 tahun sekitar sebulan yang lal...</td>\n",
              "      <td>['saya', 'berusia', '21', 'tahun', 'sekitar', ...</td>\n",
              "      <td>['berusia', '21', 'sebulan', 'mengambil', '5',...</td>\n",
              "      <td>['usia', '21', 'bulan', 'ambil', '5', 'kelas',...</td>\n",
              "      <td>usia 21 bulan ambil 5 kelas organisir bahagia ...</td>\n",
              "    </tr>\n",
              "    <tr>\n",
              "      <th>...</th>\n",
              "      <td>...</td>\n",
              "      <td>...</td>\n",
              "      <td>...</td>\n",
              "      <td>...</td>\n",
              "      <td>...</td>\n",
              "      <td>...</td>\n",
              "      <td>...</td>\n",
              "      <td>...</td>\n",
              "      <td>...</td>\n",
              "    </tr>\n",
              "    <tr>\n",
              "      <th>23179</th>\n",
              "      <td>While trying to park today I accidentally scra...</td>\n",
              "      <td>Saat mencoba parkir hari ini, saya secara tida...</td>\n",
              "      <td>Saat mencoba parkir hari ini saya secara tidak...</td>\n",
              "      <td>3</td>\n",
              "      <td>saat mencoba parkir hari ini saya secara tidak...</td>\n",
              "      <td>['saat', 'mencoba', 'parkir', 'hari', 'ini', '...</td>\n",
              "      <td>['mencoba', 'parkir', 'sengaja', 'menggaruk', ...</td>\n",
              "      <td>['coba', 'parkir', 'sengaja', 'garuk', 'mobil'...</td>\n",
              "      <td>coba parkir sengaja garuk mobil rekan kerja co...</td>\n",
              "    </tr>\n",
              "    <tr>\n",
              "      <th>23180</th>\n",
              "      <td>i feel so much guilt and hatred for everything...</td>\n",
              "      <td>Saya merasa sangat bersalah dan kebencian untu...</td>\n",
              "      <td>Saya merasa sangat bersalah dan kebencian untu...</td>\n",
              "      <td>2</td>\n",
              "      <td>saya merasa sangat bersalah dan kebencian untu...</td>\n",
              "      <td>['saya', 'merasa', 'sangat', 'bersalah', 'dan'...</td>\n",
              "      <td>['bersalah', 'kebencian', 'ayah', 'balapan', '...</td>\n",
              "      <td>['salah', 'benci', 'ayah', 'balap', 'sepeda', ...</td>\n",
              "      <td>salah benci ayah balap sepeda motor trail prof...</td>\n",
              "    </tr>\n",
              "    <tr>\n",
              "      <th>23181</th>\n",
              "      <td>Because... how? How do you know what you like ...</td>\n",
              "      <td>Karena ... bagaimana? Bagaimana Anda tahu apa ...</td>\n",
              "      <td>Karena bagaimana Bagaimana Anda tahu apa yang ...</td>\n",
              "      <td>0</td>\n",
              "      <td>karena bagaimana bagaimana anda tahu apa yang ...</td>\n",
              "      <td>['karena', 'bagaimana', 'bagaimana', 'anda', '...</td>\n",
              "      <td>['suka', 'kenakan', 'makan', 'mendefinisikan',...</td>\n",
              "      <td>['suka', 'kena', 'makan', 'definisi', 'laku', ...</td>\n",
              "      <td>suka kena makan definisi laku minggu pribadi s...</td>\n",
              "    </tr>\n",
              "    <tr>\n",
              "      <th>23182</th>\n",
              "      <td>Every time I try it gets worse. When I just si...</td>\n",
              "      <td>Setiap kali saya mencobanya semakin buruk. Ket...</td>\n",
              "      <td>Setiap kali saya mencobanya semakin buruk Keti...</td>\n",
              "      <td>2</td>\n",
              "      <td>setiap kali saya mencobanya semakin buruk keti...</td>\n",
              "      <td>['setiap', 'kali', 'saya', 'mencobanya', 'sema...</td>\n",
              "      <td>['kali', 'mencobanya', 'buruk', 'duduk', 'dudu...</td>\n",
              "      <td>['kali', 'coba', 'buruk', 'duduk', 'duduk', 's...</td>\n",
              "      <td>kali coba buruk duduk duduk sia sia coba bahag...</td>\n",
              "    </tr>\n",
              "    <tr>\n",
              "      <th>23183</th>\n",
              "      <td>I'll keep it fairly short but I am constantly ...</td>\n",
              "      <td>Saya akan membuatnya cukup pendek tetapi saya ...</td>\n",
              "      <td>Saya akan membuatnya cukup pendek tetapi saya ...</td>\n",
              "      <td>3</td>\n",
              "      <td>saya akan membuatnya cukup pendek tetapi saya ...</td>\n",
              "      <td>['saya', 'akan', 'membuatnya', 'cukup', 'pende...</td>\n",
              "      <td>['membuatnya', 'pendek', 'menerus', 'berjuang'...</td>\n",
              "      <td>['buat', 'pendek', 'terus', 'juang', 'citra', ...</td>\n",
              "      <td>buat pendek terus juang citra tubuh ocd hancur...</td>\n",
              "    </tr>\n",
              "  </tbody>\n",
              "</table>\n",
              "<p>23184 rows × 9 columns</p>\n",
              "</div>"
            ],
            "text/plain": [
              "                                                original  \\\n",
              "0      And I think that's the worst part. The BPD alr...   \n",
              "1      How do you deal with it when you’re already de...   \n",
              "2      **im not going to do anything to myself nor am...   \n",
              "3      What causes or tiggers panic attacks when you ...   \n",
              "4      I turned 21 about a month ago and I took on ab...   \n",
              "...                                                  ...   \n",
              "23179  While trying to park today I accidentally scra...   \n",
              "23180  i feel so much guilt and hatred for everything...   \n",
              "23181  Because... how? How do you know what you like ...   \n",
              "23182  Every time I try it gets worse. When I just si...   \n",
              "23183  I'll keep it fairly short but I am constantly ...   \n",
              "\n",
              "                                              translated  \\\n",
              "0      Dan saya pikir itu bagian terburuk. BPD sudah ...   \n",
              "1      Bagaimana Anda menghadapinya saat Anda sudah t...   \n",
              "2      ** Saya tidak akan melakukan apa pun untuk dir...   \n",
              "3      Apa yang menyebabkan atau menyerang Panik Tigg...   \n",
              "4      Saya berusia 21 tahun sekitar sebulan yang lal...   \n",
              "...                                                  ...   \n",
              "23179  Saat mencoba parkir hari ini, saya secara tida...   \n",
              "23180  Saya merasa sangat bersalah dan kebencian untu...   \n",
              "23181  Karena ... bagaimana? Bagaimana Anda tahu apa ...   \n",
              "23182  Setiap kali saya mencobanya semakin buruk. Ket...   \n",
              "23183  Saya akan membuatnya cukup pendek tetapi saya ...   \n",
              "\n",
              "                                            cleaned_text  label  \\\n",
              "0      Dan saya pikir itu bagian terburuk BPD sudah m...      0   \n",
              "1      Bagaimana Anda menghadapinya saat Anda sudah t...      2   \n",
              "2      Saya tidak akan melakukan apa pun untuk diri s...      0   \n",
              "3      Apa yang menyebabkan atau menyerang Panik Tigg...      3   \n",
              "4      Saya berusia 21 tahun sekitar sebulan yang lal...      2   \n",
              "...                                                  ...    ...   \n",
              "23179  Saat mencoba parkir hari ini saya secara tidak...      3   \n",
              "23180  Saya merasa sangat bersalah dan kebencian untu...      2   \n",
              "23181  Karena bagaimana Bagaimana Anda tahu apa yang ...      0   \n",
              "23182  Setiap kali saya mencobanya semakin buruk Keti...      2   \n",
              "23183  Saya akan membuatnya cukup pendek tetapi saya ...      3   \n",
              "\n",
              "                                              casefolded  \\\n",
              "0      dan saya pikir itu bagian terburuk bpd sudah m...   \n",
              "1      bagaimana anda menghadapinya saat anda sudah t...   \n",
              "2      saya tidak akan melakukan apa pun untuk diri s...   \n",
              "3      apa yang menyebabkan atau menyerang panik tigg...   \n",
              "4      saya berusia 21 tahun sekitar sebulan yang lal...   \n",
              "...                                                  ...   \n",
              "23179  saat mencoba parkir hari ini saya secara tidak...   \n",
              "23180  saya merasa sangat bersalah dan kebencian untu...   \n",
              "23181  karena bagaimana bagaimana anda tahu apa yang ...   \n",
              "23182  setiap kali saya mencobanya semakin buruk keti...   \n",
              "23183  saya akan membuatnya cukup pendek tetapi saya ...   \n",
              "\n",
              "                                               tokenized  \\\n",
              "0      ['dan', 'saya', 'pikir', 'itu', 'bagian', 'ter...   \n",
              "1      ['bagaimana', 'anda', 'menghadapinya', 'saat',...   \n",
              "2      ['saya', 'tidak', 'akan', 'melakukan', 'apa', ...   \n",
              "3      ['apa', 'yang', 'menyebabkan', 'atau', 'menyer...   \n",
              "4      ['saya', 'berusia', '21', 'tahun', 'sekitar', ...   \n",
              "...                                                  ...   \n",
              "23179  ['saat', 'mencoba', 'parkir', 'hari', 'ini', '...   \n",
              "23180  ['saya', 'merasa', 'sangat', 'bersalah', 'dan'...   \n",
              "23181  ['karena', 'bagaimana', 'bagaimana', 'anda', '...   \n",
              "23182  ['setiap', 'kali', 'saya', 'mencobanya', 'sema...   \n",
              "23183  ['saya', 'akan', 'membuatnya', 'cukup', 'pende...   \n",
              "\n",
              "                                                filtered  \\\n",
              "0      ['pikir', 'terburuk', 'bpd', 'berjuang', 'peng...   \n",
              "1                          ['menghadapinya', 'tertekan']   \n",
              "2      ['berpikir', 'tinggal', 'tunangan', 'satunya',...   \n",
              "3      ['menyebabkan', 'menyerang', 'panik', 'tiggers...   \n",
              "4      ['berusia', '21', 'sebulan', 'mengambil', '5',...   \n",
              "...                                                  ...   \n",
              "23179  ['mencoba', 'parkir', 'sengaja', 'menggaruk', ...   \n",
              "23180  ['bersalah', 'kebencian', 'ayah', 'balapan', '...   \n",
              "23181  ['suka', 'kenakan', 'makan', 'mendefinisikan',...   \n",
              "23182  ['kali', 'mencobanya', 'buruk', 'duduk', 'dudu...   \n",
              "23183  ['membuatnya', 'pendek', 'menerus', 'berjuang'...   \n",
              "\n",
              "                                                 stemmed  \\\n",
              "0      ['pikir', 'buruk', 'bpd', 'juang', 'abai', 'al...   \n",
              "1                                     ['hadap', 'tekan']   \n",
              "2      ['pikir', 'tinggal', 'tunang', 'satu', 'tahun'...   \n",
              "3      ['sebab', 'serang', 'panik', 'tiggers', 'bangu...   \n",
              "4      ['usia', '21', 'bulan', 'ambil', '5', 'kelas',...   \n",
              "...                                                  ...   \n",
              "23179  ['coba', 'parkir', 'sengaja', 'garuk', 'mobil'...   \n",
              "23180  ['salah', 'benci', 'ayah', 'balap', 'sepeda', ...   \n",
              "23181  ['suka', 'kena', 'makan', 'definisi', 'laku', ...   \n",
              "23182  ['kali', 'coba', 'buruk', 'duduk', 'duduk', 's...   \n",
              "23183  ['buat', 'pendek', 'terus', 'juang', 'citra', ...   \n",
              "\n",
              "                                          final_sentence  \n",
              "0      pikir buruk bpd juang abai alami episode erti ...  \n",
              "1                                            hadap tekan  \n",
              "2      pikir tinggal tunang satu tahun omong kosong p...  \n",
              "3      sebab serang panik tiggers bangun alami lelah ...  \n",
              "4      usia 21 bulan ambil 5 kelas organisir bahagia ...  \n",
              "...                                                  ...  \n",
              "23179  coba parkir sengaja garuk mobil rekan kerja co...  \n",
              "23180  salah benci ayah balap sepeda motor trail prof...  \n",
              "23181  suka kena makan definisi laku minggu pribadi s...  \n",
              "23182  kali coba buruk duduk duduk sia sia coba bahag...  \n",
              "23183  buat pendek terus juang citra tubuh ocd hancur...  \n",
              "\n",
              "[23184 rows x 9 columns]"
            ]
          },
          "execution_count": 36,
          "metadata": {},
          "output_type": "execute_result"
        }
      ],
      "source": [
        "df2"
      ]
    },
    {
      "cell_type": "code",
      "execution_count": 37,
      "metadata": {
        "colab": {
          "base_uri": "https://localhost:8080/"
        },
        "id": "GoWiwSkaZ8BQ",
        "outputId": "7628b7e8-e95f-4fc5-d0e6-23bd25c11d24"
      },
      "outputs": [
        {
          "name": "stdout",
          "output_type": "stream",
          "text": [
            "(23184, 9)\n"
          ]
        }
      ],
      "source": [
        "print(df2.shape)"
      ]
    },
    {
      "cell_type": "code",
      "execution_count": 38,
      "metadata": {
        "colab": {
          "base_uri": "https://localhost:8080/"
        },
        "id": "8plS-czhZ_bp",
        "outputId": "a6f9e5c6-0b9f-4cb2-d945-76918f417d1e"
      },
      "outputs": [
        {
          "name": "stdout",
          "output_type": "stream",
          "text": [
            "<class 'pandas.core.frame.DataFrame'>\n",
            "RangeIndex: 23184 entries, 0 to 23183\n",
            "Data columns (total 9 columns):\n",
            " #   Column          Non-Null Count  Dtype \n",
            "---  ------          --------------  ----- \n",
            " 0   original        23184 non-null  object\n",
            " 1   translated      23184 non-null  object\n",
            " 2   cleaned_text    23184 non-null  object\n",
            " 3   label           23184 non-null  int64 \n",
            " 4   casefolded      23184 non-null  object\n",
            " 5   tokenized       23184 non-null  object\n",
            " 6   filtered        23184 non-null  object\n",
            " 7   stemmed         23184 non-null  object\n",
            " 8   final_sentence  23145 non-null  object\n",
            "dtypes: int64(1), object(8)\n",
            "memory usage: 1.6+ MB\n"
          ]
        }
      ],
      "source": [
        "df2.info()"
      ]
    },
    {
      "cell_type": "code",
      "execution_count": 39,
      "metadata": {
        "id": "1MTPncDdzzGQ"
      },
      "outputs": [],
      "source": [
        "df2_clean = df2.dropna()"
      ]
    },
    {
      "cell_type": "code",
      "execution_count": 40,
      "metadata": {
        "id": "s1YLlHgnaDJy"
      },
      "outputs": [],
      "source": [
        "df_combined = pd.concat([df1_clean, df2_clean], ignore_index=True)"
      ]
    },
    {
      "cell_type": "code",
      "execution_count": 41,
      "metadata": {
        "colab": {
          "base_uri": "https://localhost:8080/",
          "height": 1000
        },
        "id": "JqZiyQbSaIwF",
        "outputId": "2de8162b-7a3d-4607-8de0-9b79a11f7d7e"
      },
      "outputs": [
        {
          "data": {
            "text/html": [
              "<div>\n",
              "<style scoped>\n",
              "    .dataframe tbody tr th:only-of-type {\n",
              "        vertical-align: middle;\n",
              "    }\n",
              "\n",
              "    .dataframe tbody tr th {\n",
              "        vertical-align: top;\n",
              "    }\n",
              "\n",
              "    .dataframe thead th {\n",
              "        text-align: right;\n",
              "    }\n",
              "</style>\n",
              "<table border=\"1\" class=\"dataframe\">\n",
              "  <thead>\n",
              "    <tr style=\"text-align: right;\">\n",
              "      <th></th>\n",
              "      <th>original</th>\n",
              "      <th>translated</th>\n",
              "      <th>cleaned_text</th>\n",
              "      <th>label</th>\n",
              "      <th>casefolded</th>\n",
              "      <th>tokenized</th>\n",
              "      <th>filtered</th>\n",
              "      <th>stemmed</th>\n",
              "      <th>final_sentence</th>\n",
              "    </tr>\n",
              "  </thead>\n",
              "  <tbody>\n",
              "    <tr>\n",
              "      <th>0</th>\n",
              "      <td>My father - all of my life - has shifted betwe...</td>\n",
              "      <td>Ayah saya - sepanjang hidup saya - telah berge...</td>\n",
              "      <td>Ayah saya sepanjang hidup saya telah bergeser ...</td>\n",
              "      <td>0</td>\n",
              "      <td>ayah saya sepanjang hidup saya telah bergeser ...</td>\n",
              "      <td>['ayah', 'saya', 'sepanjang', 'hidup', 'saya',...</td>\n",
              "      <td>['ayah', 'hidup', 'bergeser', 'monster', 'terb...</td>\n",
              "      <td>['ayah', 'hidup', 'geser', 'monster', 'baik', ...</td>\n",
              "      <td>ayah hidup geser monster baik dukung tenang po...</td>\n",
              "    </tr>\n",
              "    <tr>\n",
              "      <th>1</th>\n",
              "      <td>I have health anxiety where I go to the doctor...</td>\n",
              "      <td>Saya memiliki kecemasan kesehatan di mana saya...</td>\n",
              "      <td>Saya memiliki kecemasan kesehatan di mana saya...</td>\n",
              "      <td>3</td>\n",
              "      <td>saya memiliki kecemasan kesehatan di mana saya...</td>\n",
              "      <td>['saya', 'memiliki', 'kecemasan', 'kesehatan',...</td>\n",
              "      <td>['kecemasan', 'kesehatan', 'pergi', 'dokter', ...</td>\n",
              "      <td>['cemas', 'sehat', 'pergi', 'dokter', 'sakit',...</td>\n",
              "      <td>cemas sehat pergi dokter sakit kepala sederhan...</td>\n",
              "    </tr>\n",
              "    <tr>\n",
              "      <th>2</th>\n",
              "      <td>I was thinking about the differences between B...</td>\n",
              "      <td>Saya sedang memikirkan perbedaan antara BPD da...</td>\n",
              "      <td>Saya sedang memikirkan perbedaan antara BPD da...</td>\n",
              "      <td>0</td>\n",
              "      <td>saya sedang memikirkan perbedaan antara bpd da...</td>\n",
              "      <td>['saya', 'sedang', 'memikirkan', 'perbedaan', ...</td>\n",
              "      <td>['memikirkan', 'perbedaan', 'bpd', 'cptsd', 'a...</td>\n",
              "      <td>['pikir', 'beda', 'bpd', 'cptsd', 'aspek', 'ut...</td>\n",
              "      <td>pikir beda bpd cptsd aspek utama bpd alami tra...</td>\n",
              "    </tr>\n",
              "    <tr>\n",
              "      <th>3</th>\n",
              "      <td>Let me preface this by saying that I promise I...</td>\n",
              "      <td>Izinkan saya mengawali ini dengan mengatakan b...</td>\n",
              "      <td>Izinkan saya mengawali ini dengan mengatakan b...</td>\n",
              "      <td>2</td>\n",
              "      <td>izinkan saya mengawali ini dengan mengatakan b...</td>\n",
              "      <td>['izinkan', 'saya', 'mengawali', 'ini', 'denga...</td>\n",
              "      <td>['izinkan', 'mengawali', 'berjanji', 'berbicar...</td>\n",
              "      <td>['izin', 'awal', 'janji', 'bicara', 'terap', '...</td>\n",
              "      <td>izin awal janji bicara terap percaya rabu deti...</td>\n",
              "    </tr>\n",
              "    <tr>\n",
              "      <th>4</th>\n",
              "      <td>I've been exploring this forum for awhile, and...</td>\n",
              "      <td>Saya telah menjelajahi forum ini untuk sementa...</td>\n",
              "      <td>Saya telah menjelajahi forum ini untuk sementa...</td>\n",
              "      <td>0</td>\n",
              "      <td>saya telah menjelajahi forum ini untuk sementa...</td>\n",
              "      <td>['saya', 'telah', 'menjelajahi', 'forum', 'ini...</td>\n",
              "      <td>['menjelajahi', 'forum', 'tes', 'bpd', 'konyol...</td>\n",
              "      <td>['jajah', 'forum', 'tes', 'bpd', 'konyol', 'on...</td>\n",
              "      <td>jajah forum tes bpd konyol online dasar asa ma...</td>\n",
              "    </tr>\n",
              "    <tr>\n",
              "      <th>...</th>\n",
              "      <td>...</td>\n",
              "      <td>...</td>\n",
              "      <td>...</td>\n",
              "      <td>...</td>\n",
              "      <td>...</td>\n",
              "      <td>...</td>\n",
              "      <td>...</td>\n",
              "      <td>...</td>\n",
              "      <td>...</td>\n",
              "    </tr>\n",
              "    <tr>\n",
              "      <th>55625</th>\n",
              "      <td>While trying to park today I accidentally scra...</td>\n",
              "      <td>Saat mencoba parkir hari ini, saya secara tida...</td>\n",
              "      <td>Saat mencoba parkir hari ini saya secara tidak...</td>\n",
              "      <td>3</td>\n",
              "      <td>saat mencoba parkir hari ini saya secara tidak...</td>\n",
              "      <td>['saat', 'mencoba', 'parkir', 'hari', 'ini', '...</td>\n",
              "      <td>['mencoba', 'parkir', 'sengaja', 'menggaruk', ...</td>\n",
              "      <td>['coba', 'parkir', 'sengaja', 'garuk', 'mobil'...</td>\n",
              "      <td>coba parkir sengaja garuk mobil rekan kerja co...</td>\n",
              "    </tr>\n",
              "    <tr>\n",
              "      <th>55626</th>\n",
              "      <td>i feel so much guilt and hatred for everything...</td>\n",
              "      <td>Saya merasa sangat bersalah dan kebencian untu...</td>\n",
              "      <td>Saya merasa sangat bersalah dan kebencian untu...</td>\n",
              "      <td>2</td>\n",
              "      <td>saya merasa sangat bersalah dan kebencian untu...</td>\n",
              "      <td>['saya', 'merasa', 'sangat', 'bersalah', 'dan'...</td>\n",
              "      <td>['bersalah', 'kebencian', 'ayah', 'balapan', '...</td>\n",
              "      <td>['salah', 'benci', 'ayah', 'balap', 'sepeda', ...</td>\n",
              "      <td>salah benci ayah balap sepeda motor trail prof...</td>\n",
              "    </tr>\n",
              "    <tr>\n",
              "      <th>55627</th>\n",
              "      <td>Because... how? How do you know what you like ...</td>\n",
              "      <td>Karena ... bagaimana? Bagaimana Anda tahu apa ...</td>\n",
              "      <td>Karena bagaimana Bagaimana Anda tahu apa yang ...</td>\n",
              "      <td>0</td>\n",
              "      <td>karena bagaimana bagaimana anda tahu apa yang ...</td>\n",
              "      <td>['karena', 'bagaimana', 'bagaimana', 'anda', '...</td>\n",
              "      <td>['suka', 'kenakan', 'makan', 'mendefinisikan',...</td>\n",
              "      <td>['suka', 'kena', 'makan', 'definisi', 'laku', ...</td>\n",
              "      <td>suka kena makan definisi laku minggu pribadi s...</td>\n",
              "    </tr>\n",
              "    <tr>\n",
              "      <th>55628</th>\n",
              "      <td>Every time I try it gets worse. When I just si...</td>\n",
              "      <td>Setiap kali saya mencobanya semakin buruk. Ket...</td>\n",
              "      <td>Setiap kali saya mencobanya semakin buruk Keti...</td>\n",
              "      <td>2</td>\n",
              "      <td>setiap kali saya mencobanya semakin buruk keti...</td>\n",
              "      <td>['setiap', 'kali', 'saya', 'mencobanya', 'sema...</td>\n",
              "      <td>['kali', 'mencobanya', 'buruk', 'duduk', 'dudu...</td>\n",
              "      <td>['kali', 'coba', 'buruk', 'duduk', 'duduk', 's...</td>\n",
              "      <td>kali coba buruk duduk duduk sia sia coba bahag...</td>\n",
              "    </tr>\n",
              "    <tr>\n",
              "      <th>55629</th>\n",
              "      <td>I'll keep it fairly short but I am constantly ...</td>\n",
              "      <td>Saya akan membuatnya cukup pendek tetapi saya ...</td>\n",
              "      <td>Saya akan membuatnya cukup pendek tetapi saya ...</td>\n",
              "      <td>3</td>\n",
              "      <td>saya akan membuatnya cukup pendek tetapi saya ...</td>\n",
              "      <td>['saya', 'akan', 'membuatnya', 'cukup', 'pende...</td>\n",
              "      <td>['membuatnya', 'pendek', 'menerus', 'berjuang'...</td>\n",
              "      <td>['buat', 'pendek', 'terus', 'juang', 'citra', ...</td>\n",
              "      <td>buat pendek terus juang citra tubuh ocd hancur...</td>\n",
              "    </tr>\n",
              "  </tbody>\n",
              "</table>\n",
              "<p>55630 rows × 9 columns</p>\n",
              "</div>"
            ],
            "text/plain": [
              "                                                original  \\\n",
              "0      My father - all of my life - has shifted betwe...   \n",
              "1      I have health anxiety where I go to the doctor...   \n",
              "2      I was thinking about the differences between B...   \n",
              "3      Let me preface this by saying that I promise I...   \n",
              "4      I've been exploring this forum for awhile, and...   \n",
              "...                                                  ...   \n",
              "55625  While trying to park today I accidentally scra...   \n",
              "55626  i feel so much guilt and hatred for everything...   \n",
              "55627  Because... how? How do you know what you like ...   \n",
              "55628  Every time I try it gets worse. When I just si...   \n",
              "55629  I'll keep it fairly short but I am constantly ...   \n",
              "\n",
              "                                              translated  \\\n",
              "0      Ayah saya - sepanjang hidup saya - telah berge...   \n",
              "1      Saya memiliki kecemasan kesehatan di mana saya...   \n",
              "2      Saya sedang memikirkan perbedaan antara BPD da...   \n",
              "3      Izinkan saya mengawali ini dengan mengatakan b...   \n",
              "4      Saya telah menjelajahi forum ini untuk sementa...   \n",
              "...                                                  ...   \n",
              "55625  Saat mencoba parkir hari ini, saya secara tida...   \n",
              "55626  Saya merasa sangat bersalah dan kebencian untu...   \n",
              "55627  Karena ... bagaimana? Bagaimana Anda tahu apa ...   \n",
              "55628  Setiap kali saya mencobanya semakin buruk. Ket...   \n",
              "55629  Saya akan membuatnya cukup pendek tetapi saya ...   \n",
              "\n",
              "                                            cleaned_text  label  \\\n",
              "0      Ayah saya sepanjang hidup saya telah bergeser ...      0   \n",
              "1      Saya memiliki kecemasan kesehatan di mana saya...      3   \n",
              "2      Saya sedang memikirkan perbedaan antara BPD da...      0   \n",
              "3      Izinkan saya mengawali ini dengan mengatakan b...      2   \n",
              "4      Saya telah menjelajahi forum ini untuk sementa...      0   \n",
              "...                                                  ...    ...   \n",
              "55625  Saat mencoba parkir hari ini saya secara tidak...      3   \n",
              "55626  Saya merasa sangat bersalah dan kebencian untu...      2   \n",
              "55627  Karena bagaimana Bagaimana Anda tahu apa yang ...      0   \n",
              "55628  Setiap kali saya mencobanya semakin buruk Keti...      2   \n",
              "55629  Saya akan membuatnya cukup pendek tetapi saya ...      3   \n",
              "\n",
              "                                              casefolded  \\\n",
              "0      ayah saya sepanjang hidup saya telah bergeser ...   \n",
              "1      saya memiliki kecemasan kesehatan di mana saya...   \n",
              "2      saya sedang memikirkan perbedaan antara bpd da...   \n",
              "3      izinkan saya mengawali ini dengan mengatakan b...   \n",
              "4      saya telah menjelajahi forum ini untuk sementa...   \n",
              "...                                                  ...   \n",
              "55625  saat mencoba parkir hari ini saya secara tidak...   \n",
              "55626  saya merasa sangat bersalah dan kebencian untu...   \n",
              "55627  karena bagaimana bagaimana anda tahu apa yang ...   \n",
              "55628  setiap kali saya mencobanya semakin buruk keti...   \n",
              "55629  saya akan membuatnya cukup pendek tetapi saya ...   \n",
              "\n",
              "                                               tokenized  \\\n",
              "0      ['ayah', 'saya', 'sepanjang', 'hidup', 'saya',...   \n",
              "1      ['saya', 'memiliki', 'kecemasan', 'kesehatan',...   \n",
              "2      ['saya', 'sedang', 'memikirkan', 'perbedaan', ...   \n",
              "3      ['izinkan', 'saya', 'mengawali', 'ini', 'denga...   \n",
              "4      ['saya', 'telah', 'menjelajahi', 'forum', 'ini...   \n",
              "...                                                  ...   \n",
              "55625  ['saat', 'mencoba', 'parkir', 'hari', 'ini', '...   \n",
              "55626  ['saya', 'merasa', 'sangat', 'bersalah', 'dan'...   \n",
              "55627  ['karena', 'bagaimana', 'bagaimana', 'anda', '...   \n",
              "55628  ['setiap', 'kali', 'saya', 'mencobanya', 'sema...   \n",
              "55629  ['saya', 'akan', 'membuatnya', 'cukup', 'pende...   \n",
              "\n",
              "                                                filtered  \\\n",
              "0      ['ayah', 'hidup', 'bergeser', 'monster', 'terb...   \n",
              "1      ['kecemasan', 'kesehatan', 'pergi', 'dokter', ...   \n",
              "2      ['memikirkan', 'perbedaan', 'bpd', 'cptsd', 'a...   \n",
              "3      ['izinkan', 'mengawali', 'berjanji', 'berbicar...   \n",
              "4      ['menjelajahi', 'forum', 'tes', 'bpd', 'konyol...   \n",
              "...                                                  ...   \n",
              "55625  ['mencoba', 'parkir', 'sengaja', 'menggaruk', ...   \n",
              "55626  ['bersalah', 'kebencian', 'ayah', 'balapan', '...   \n",
              "55627  ['suka', 'kenakan', 'makan', 'mendefinisikan',...   \n",
              "55628  ['kali', 'mencobanya', 'buruk', 'duduk', 'dudu...   \n",
              "55629  ['membuatnya', 'pendek', 'menerus', 'berjuang'...   \n",
              "\n",
              "                                                 stemmed  \\\n",
              "0      ['ayah', 'hidup', 'geser', 'monster', 'baik', ...   \n",
              "1      ['cemas', 'sehat', 'pergi', 'dokter', 'sakit',...   \n",
              "2      ['pikir', 'beda', 'bpd', 'cptsd', 'aspek', 'ut...   \n",
              "3      ['izin', 'awal', 'janji', 'bicara', 'terap', '...   \n",
              "4      ['jajah', 'forum', 'tes', 'bpd', 'konyol', 'on...   \n",
              "...                                                  ...   \n",
              "55625  ['coba', 'parkir', 'sengaja', 'garuk', 'mobil'...   \n",
              "55626  ['salah', 'benci', 'ayah', 'balap', 'sepeda', ...   \n",
              "55627  ['suka', 'kena', 'makan', 'definisi', 'laku', ...   \n",
              "55628  ['kali', 'coba', 'buruk', 'duduk', 'duduk', 's...   \n",
              "55629  ['buat', 'pendek', 'terus', 'juang', 'citra', ...   \n",
              "\n",
              "                                          final_sentence  \n",
              "0      ayah hidup geser monster baik dukung tenang po...  \n",
              "1      cemas sehat pergi dokter sakit kepala sederhan...  \n",
              "2      pikir beda bpd cptsd aspek utama bpd alami tra...  \n",
              "3      izin awal janji bicara terap percaya rabu deti...  \n",
              "4      jajah forum tes bpd konyol online dasar asa ma...  \n",
              "...                                                  ...  \n",
              "55625  coba parkir sengaja garuk mobil rekan kerja co...  \n",
              "55626  salah benci ayah balap sepeda motor trail prof...  \n",
              "55627  suka kena makan definisi laku minggu pribadi s...  \n",
              "55628  kali coba buruk duduk duduk sia sia coba bahag...  \n",
              "55629  buat pendek terus juang citra tubuh ocd hancur...  \n",
              "\n",
              "[55630 rows x 9 columns]"
            ]
          },
          "execution_count": 41,
          "metadata": {},
          "output_type": "execute_result"
        }
      ],
      "source": [
        "df_combined"
      ]
    },
    {
      "cell_type": "code",
      "execution_count": 42,
      "metadata": {
        "colab": {
          "base_uri": "https://localhost:8080/"
        },
        "id": "-jMO2O9qaM6h",
        "outputId": "d904813c-6d11-4fae-831a-d366812d42a8"
      },
      "outputs": [
        {
          "name": "stdout",
          "output_type": "stream",
          "text": [
            "(55630, 9)\n"
          ]
        }
      ],
      "source": [
        "print(df_combined.shape)"
      ]
    },
    {
      "cell_type": "code",
      "execution_count": 43,
      "metadata": {
        "colab": {
          "base_uri": "https://localhost:8080/"
        },
        "id": "iKFENDzLaTdx",
        "outputId": "6f3b0256-8af7-44a6-db50-4c980b9ce907"
      },
      "outputs": [
        {
          "name": "stdout",
          "output_type": "stream",
          "text": [
            "<class 'pandas.core.frame.DataFrame'>\n",
            "RangeIndex: 55630 entries, 0 to 55629\n",
            "Data columns (total 9 columns):\n",
            " #   Column          Non-Null Count  Dtype \n",
            "---  ------          --------------  ----- \n",
            " 0   original        55630 non-null  object\n",
            " 1   translated      55630 non-null  object\n",
            " 2   cleaned_text    55630 non-null  object\n",
            " 3   label           55630 non-null  int64 \n",
            " 4   casefolded      55630 non-null  object\n",
            " 5   tokenized       55630 non-null  object\n",
            " 6   filtered        55630 non-null  object\n",
            " 7   stemmed         55630 non-null  object\n",
            " 8   final_sentence  55630 non-null  object\n",
            "dtypes: int64(1), object(8)\n",
            "memory usage: 3.8+ MB\n"
          ]
        }
      ],
      "source": [
        "df_combined.info()"
      ]
    },
    {
      "cell_type": "code",
      "execution_count": 44,
      "metadata": {
        "id": "y9ztWL_vdwxa"
      },
      "outputs": [],
      "source": [
        "df_cleaned = df_combined.dropna()"
      ]
    },
    {
      "cell_type": "code",
      "execution_count": 45,
      "metadata": {
        "colab": {
          "base_uri": "https://localhost:8080/"
        },
        "id": "4slDNfjRhIb7",
        "outputId": "5263be7c-33e7-46ce-adfd-518735a82bc7"
      },
      "outputs": [
        {
          "name": "stdout",
          "output_type": "stream",
          "text": [
            "<class 'pandas.core.frame.DataFrame'>\n",
            "RangeIndex: 55630 entries, 0 to 55629\n",
            "Data columns (total 9 columns):\n",
            " #   Column          Non-Null Count  Dtype \n",
            "---  ------          --------------  ----- \n",
            " 0   original        55630 non-null  object\n",
            " 1   translated      55630 non-null  object\n",
            " 2   cleaned_text    55630 non-null  object\n",
            " 3   label           55630 non-null  int64 \n",
            " 4   casefolded      55630 non-null  object\n",
            " 5   tokenized       55630 non-null  object\n",
            " 6   filtered        55630 non-null  object\n",
            " 7   stemmed         55630 non-null  object\n",
            " 8   final_sentence  55630 non-null  object\n",
            "dtypes: int64(1), object(8)\n",
            "memory usage: 3.8+ MB\n"
          ]
        }
      ],
      "source": [
        "df_cleaned.info()"
      ]
    },
    {
      "cell_type": "code",
      "execution_count": 46,
      "metadata": {},
      "outputs": [
        {
          "data": {
            "text/plain": [
              "label\n",
              "0    20269\n",
              "3    15674\n",
              "2    11526\n",
              "5     3686\n",
              "1     3384\n",
              "4     1091\n",
              "Name: count, dtype: int64"
            ]
          },
          "execution_count": 46,
          "metadata": {},
          "output_type": "execute_result"
        }
      ],
      "source": [
        "df_cleaned['label'].value_counts()"
      ]
    },
    {
      "cell_type": "code",
      "execution_count": null,
      "metadata": {},
      "outputs": [],
      "source": [
        "# Menentukan jumlah minimal dari semua kelas\n",
        "min_count = df_cleaned['label'].value_counts().min()\n",
        "\n",
        "# Undersample semua kelas ke jumlah minimal tersebut\n",
        "df_underbalanced = (\n",
        "    df_cleaned.groupby('label')\n",
        "    .apply(lambda x: x.sample(n=min_count, random_state=42))\n",
        "    .reset_index(drop=True)\n",
        ")"
      ]
    },
    {
      "cell_type": "code",
      "execution_count": null,
      "metadata": {},
      "outputs": [],
      "source": [
        "df_underbalanced['label'].value_counts()"
      ]
    },
    {
      "cell_type": "code",
      "execution_count": 47,
      "metadata": {},
      "outputs": [
        {
          "name": "stdout",
          "output_type": "stream",
          "text": [
            "<class 'pandas.core.frame.DataFrame'>\n",
            "RangeIndex: 55630 entries, 0 to 55629\n",
            "Data columns (total 9 columns):\n",
            " #   Column          Non-Null Count  Dtype \n",
            "---  ------          --------------  ----- \n",
            " 0   original        55630 non-null  object\n",
            " 1   translated      55630 non-null  object\n",
            " 2   cleaned_text    55630 non-null  object\n",
            " 3   label           55630 non-null  int64 \n",
            " 4   casefolded      55630 non-null  object\n",
            " 5   tokenized       55630 non-null  object\n",
            " 6   filtered        55630 non-null  object\n",
            " 7   stemmed         55630 non-null  object\n",
            " 8   final_sentence  55630 non-null  object\n",
            "dtypes: int64(1), object(8)\n",
            "memory usage: 3.8+ MB\n"
          ]
        }
      ],
      "source": [
        "df_cleaned.info()"
      ]
    },
    {
      "cell_type": "code",
      "execution_count": 48,
      "metadata": {},
      "outputs": [],
      "source": [
        "y = df_cleaned['label']\n",
        "X = df_cleaned['final_sentence']"
      ]
    },
    {
      "cell_type": "code",
      "execution_count": null,
      "metadata": {
        "id": "B97X-B7ZaVmm"
      },
      "outputs": [],
      "source": [
        "y = df_underbalanced['label']\n",
        "X = df_underbalanced['final_sentence']"
      ]
    },
    {
      "cell_type": "code",
      "execution_count": null,
      "metadata": {},
      "outputs": [],
      "source": [
        "# Maksimal jumlah data per kelas\n",
        "max_per_class = 5000\n",
        "\n",
        "# Ambil sample dari tiap kelas (maksimum 5000)\n",
        "df_sampled5k = (\n",
        "    df_cleaned.groupby('label', group_keys=False)\n",
        "    .apply(lambda x: x.sample(n=min(len(x), max_per_class), random_state=42))\n",
        ")\n",
        "\n",
        "# Cek hasil distribusi\n",
        "print(df_sampled5k['label'].value_counts())"
      ]
    },
    {
      "cell_type": "code",
      "execution_count": null,
      "metadata": {},
      "outputs": [],
      "source": [
        "y = df_sampled5k['label']\n",
        "X = df_sampled5k['final_sentence']"
      ]
    },
    {
      "cell_type": "code",
      "execution_count": 49,
      "metadata": {
        "id": "weVIhqBscd70"
      },
      "outputs": [],
      "source": [
        "#copy data awal untuk di gunakan di tokenizer\n",
        "y_cate = y.copy()\n",
        "X_tok = X.copy()"
      ]
    },
    {
      "cell_type": "code",
      "execution_count": 50,
      "metadata": {
        "id": "9lv4HkcYb7RI"
      },
      "outputs": [],
      "source": [
        "# Encode label menjadi one-hot\n",
        "num_classes = 6\n",
        "labels_encoded = to_categorical(y_cate, num_classes=num_classes)\n",
        "\n",
        "# Tokenisasi teks\n",
        "tokenizer = Tokenizer(num_words=1000, oov_token=\"<OOV>\")\n",
        "tokenizer.fit_on_texts(X_tok)\n",
        "sequences = tokenizer.texts_to_sequences(X_tok)\n",
        "\n",
        "# Padding sequence supaya panjangnya sama\n",
        "max_len = 500\n",
        "teKs = pad_sequences(sequences, maxlen=max_len, padding='post')\n",
        "\n",
        "# Split data train-test\n",
        "X_train, X_test, y_train, y_test = train_test_split(teKs, labels_encoded, test_size=0.2, random_state=42)"
      ]
    },
    {
      "cell_type": "code",
      "execution_count": 51,
      "metadata": {
        "id": "3Dy46wyzcG5V"
      },
      "outputs": [],
      "source": [
        "class StopAtAccuracy(Callback):\n",
        "    def __init__(self, target_acc=0.94):\n",
        "        super().__init__()\n",
        "        self.target_acc = target_acc\n",
        "\n",
        "    def on_epoch_end(self, epoch, logs=None):\n",
        "        val_acc = logs.get(\"val_accuracy\")\n",
        "        if val_acc is not None and val_acc >= self.target_acc:\n",
        "            print(f\"\\n✅ Target akurasi {self.target_acc*100:.0f}% tercapai di epoch {epoch+1}. Training dihentikan.\")\n",
        "            self.model.stop_training = True"
      ]
    },
    {
      "cell_type": "code",
      "execution_count": 53,
      "metadata": {
        "colab": {
          "base_uri": "https://localhost:8080/",
          "height": 373
        },
        "id": "gKo-efoTaj7e",
        "outputId": "576e71f5-ec74-4800-b410-3dd271cdd8c6"
      },
      "outputs": [
        {
          "name": "stdout",
          "output_type": "stream",
          "text": [
            "Epoch 1/20\n",
            "348/348 - 1269s - 4s/step - accuracy: 0.3588 - loss: 1.9220 - val_accuracy: 0.3611 - val_loss: 1.4869\n",
            "Epoch 2/20\n",
            "348/348 - 1237s - 4s/step - accuracy: 0.3652 - loss: 1.4779 - val_accuracy: 0.3611 - val_loss: 1.4884\n",
            "Epoch 3/20\n",
            "348/348 - 1282s - 4s/step - accuracy: 0.3652 - loss: 1.4781 - val_accuracy: 0.3611 - val_loss: 1.4866\n",
            "Epoch 4/20\n",
            "348/348 - 1217s - 3s/step - accuracy: 0.3652 - loss: 1.4775 - val_accuracy: 0.3611 - val_loss: 1.4883\n",
            "Epoch 5/20\n",
            "348/348 - 1205s - 3s/step - accuracy: 0.3652 - loss: 1.4778 - val_accuracy: 0.3611 - val_loss: 1.4874\n",
            "Epoch 6/20\n",
            "348/348 - 1183s - 3s/step - accuracy: 0.3652 - loss: 1.4780 - val_accuracy: 0.3611 - val_loss: 1.4877\n",
            "Epoch 7/20\n",
            "348/348 - 1211s - 3s/step - accuracy: 0.3652 - loss: 1.4776 - val_accuracy: 0.3611 - val_loss: 1.4895\n",
            "Epoch 8/20\n",
            "348/348 - 1194s - 3s/step - accuracy: 0.3652 - loss: 1.4777 - val_accuracy: 0.3611 - val_loss: 1.4862\n",
            "Epoch 9/20\n",
            "348/348 - 1202s - 3s/step - accuracy: 0.3652 - loss: 1.4776 - val_accuracy: 0.3611 - val_loss: 1.4872\n",
            "Epoch 10/20\n",
            "348/348 - 1196s - 3s/step - accuracy: 0.3652 - loss: 1.4775 - val_accuracy: 0.3611 - val_loss: 1.4885\n",
            "Epoch 11/20\n",
            "348/348 - 1193s - 3s/step - accuracy: 0.3652 - loss: 1.4775 - val_accuracy: 0.3611 - val_loss: 1.4864\n",
            "Epoch 12/20\n",
            "348/348 - 1188s - 3s/step - accuracy: 0.3652 - loss: 1.4775 - val_accuracy: 0.3611 - val_loss: 1.4862\n",
            "Epoch 13/20\n",
            "348/348 - 1183s - 3s/step - accuracy: 0.3652 - loss: 1.4773 - val_accuracy: 0.3611 - val_loss: 1.4887\n",
            "Epoch 14/20\n",
            "348/348 - 1186s - 3s/step - accuracy: 0.3652 - loss: 1.4775 - val_accuracy: 0.3611 - val_loss: 1.4888\n",
            "Epoch 15/20\n",
            "348/348 - 1176s - 3s/step - accuracy: 0.3652 - loss: 1.4773 - val_accuracy: 0.3611 - val_loss: 1.4861\n",
            "Epoch 16/20\n",
            "348/348 - 1195s - 3s/step - accuracy: 0.3652 - loss: 1.4775 - val_accuracy: 0.3611 - val_loss: 1.4860\n",
            "Epoch 17/20\n",
            "348/348 - 1180s - 3s/step - accuracy: 0.3652 - loss: 1.4773 - val_accuracy: 0.3611 - val_loss: 1.4863\n",
            "Epoch 18/20\n",
            "348/348 - 1183s - 3s/step - accuracy: 0.3652 - loss: 1.4771 - val_accuracy: 0.3611 - val_loss: 1.4863\n",
            "Epoch 19/20\n",
            "348/348 - 1185s - 3s/step - accuracy: 0.3652 - loss: 1.4772 - val_accuracy: 0.3611 - val_loss: 1.4862\n",
            "Epoch 20/20\n",
            "348/348 - 1180s - 3s/step - accuracy: 0.3652 - loss: 1.4769 - val_accuracy: 0.3611 - val_loss: 1.4876\n"
          ]
        }
      ],
      "source": [
        "model_LSTM = Sequential()\n",
        "model_LSTM.add(Embedding(input_dim=1000, output_dim=256, input_length=max_len))\n",
        "model_LSTM.add(LSTM(128, dropout=0.2, recurrent_dropout=0.2, kernel_regularizer=l2(0.01), return_sequences=True))\n",
        "model_LSTM.add(LSTM(64, dropout=0.2, recurrent_dropout=0.2, kernel_regularizer=l2(0.01)))\n",
        "model_LSTM.add(Dense(128, activation='relu'))\n",
        "model_LSTM.add(Dense(64, activation='relu'))\n",
        "model_LSTM.add(Dense(32, activation='relu'))\n",
        "model_LSTM.add(Dense(6, activation='softmax'))\n",
        "model_LSTM.compile(loss='categorical_crossentropy', optimizer=Adam(learning_rate=0.001), metrics=['accuracy'])\n",
        "\n",
        "#point stopping kustom pada 94%\n",
        "callbacks = StopAtAccuracy(target_acc=0.94)\n",
        "\n",
        "# Melatih model dengan early stopping kustom\n",
        "history = model_LSTM.fit(X_train, y_train, epochs=20, batch_size=128, verbose=2, callbacks=[callbacks], validation_data=(X_test, y_test))"
      ]
    },
    {
      "cell_type": "code",
      "execution_count": 56,
      "metadata": {},
      "outputs": [
        {
          "name": "stderr",
          "output_type": "stream",
          "text": [
            "WARNING:absl:You are saving your model as an HDF5 file via `model.save()` or `keras.saving.save_model(model)`. This file format is considered legacy. We recommend using instead the native Keras format, e.g. `model.save('my_model.keras')` or `keras.saving.save_model(model, 'my_model.keras')`. \n"
          ]
        }
      ],
      "source": [
        "model_LSTM.save('model_lstm.h5')\n"
      ]
    },
    {
      "cell_type": "code",
      "execution_count": 57,
      "metadata": {},
      "outputs": [
        {
          "data": {
            "image/png": "[encoded data removed]",
            "text/plain": [
              "<Figure size 1200x500 with 2 Axes>"
            ]
          },
          "metadata": {},
          "output_type": "display_data"
        }
      ],
      "source": [
        "# Plot akurasi training dan validasi\n",
        "plt.figure(figsize=(12, 5))\n",
        "\n",
        "# Plot akurasi\n",
        "plt.subplot(1, 2, 1)\n",
        "plt.plot(history.history['accuracy'], label='Training Accuracy')\n",
        "plt.plot(history.history['val_accuracy'], label='Validation Accuracy')\n",
        "plt.title('Akurasi Model')\n",
        "plt.xlabel('Epoch')\n",
        "plt.ylabel('Accuracy')\n",
        "plt.legend()\n",
        "\n",
        "# Plot loss\n",
        "plt.subplot(1, 2, 2)\n",
        "plt.plot(history.history['loss'], label='Training Loss')\n",
        "plt.plot(history.history['val_loss'], label='Validation Loss')\n",
        "plt.title('Loss Model')\n",
        "plt.xlabel('Epoch')\n",
        "plt.ylabel('Loss')\n",
        "plt.legend()\n",
        "\n",
        "plt.tight_layout()\n",
        "plt.show()"
      ]
    },
    {
      "cell_type": "code",
      "execution_count": 54,
      "metadata": {},
      "outputs": [],
      "source": [
        "from sklearn.metrics import confusion_matrix, classification_report"
      ]
    },
    {
      "cell_type": "code",
      "execution_count": 58,
      "metadata": {},
      "outputs": [
        {
          "name": "stdout",
          "output_type": "stream",
          "text": [
            "\u001b[1m348/348\u001b[0m \u001b[32m━━━━━━━━━━━━━━━━━━━━\u001b[0m\u001b[37m\u001b[0m \u001b[1m30s\u001b[0m 86ms/step\n"
          ]
        },
        {
          "data": {
            "image/png": "[encoded data removed]",
            "text/plain": [
              "<Figure size 800x600 with 2 Axes>"
            ]
          },
          "metadata": {},
          "output_type": "display_data"
        },
        {
          "name": "stdout",
          "output_type": "stream",
          "text": [
            "              precision    recall  f1-score   support\n",
            "\n",
            "           0       0.36      1.00      0.53      4018\n",
            "           1       0.00      0.00      0.00       681\n",
            "           2       0.00      0.00      0.00      2302\n",
            "           3       0.00      0.00      0.00      3131\n",
            "           4       0.00      0.00      0.00       231\n",
            "           5       0.00      0.00      0.00       763\n",
            "\n",
            "    accuracy                           0.36     11126\n",
            "   macro avg       0.06      0.17      0.09     11126\n",
            "weighted avg       0.13      0.36      0.19     11126\n",
            "\n"
          ]
        },
        {
          "name": "stderr",
          "output_type": "stream",
          "text": [
            "c:\\Users\\USER\\AppData\\Local\\Programs\\Python\\Python312\\Lib\\site-packages\\sklearn\\metrics\\_classification.py:1565: UndefinedMetricWarning: Precision is ill-defined and being set to 0.0 in labels with no predicted samples. Use `zero_division` parameter to control this behavior.\n",
            "  _warn_prf(average, modifier, f\"{metric.capitalize()} is\", len(result))\n",
            "c:\\Users\\USER\\AppData\\Local\\Programs\\Python\\Python312\\Lib\\site-packages\\sklearn\\metrics\\_classification.py:1565: UndefinedMetricWarning: Precision is ill-defined and being set to 0.0 in labels with no predicted samples. Use `zero_division` parameter to control this behavior.\n",
            "  _warn_prf(average, modifier, f\"{metric.capitalize()} is\", len(result))\n",
            "c:\\Users\\USER\\AppData\\Local\\Programs\\Python\\Python312\\Lib\\site-packages\\sklearn\\metrics\\_classification.py:1565: UndefinedMetricWarning: Precision is ill-defined and being set to 0.0 in labels with no predicted samples. Use `zero_division` parameter to control this behavior.\n",
            "  _warn_prf(average, modifier, f\"{metric.capitalize()} is\", len(result))\n"
          ]
        }
      ],
      "source": [
        "# Prediksi model pada data test\n",
        "y_pred_prob = model_LSTM.predict(X_test)\n",
        "\n",
        "# Ambil index label tertinggi (kelas prediksi dan aktual)\n",
        "y_pred = np.argmax(y_pred_prob, axis=1)\n",
        "y_true = np.argmax(y_test, axis=1)\n",
        "\n",
        "# Buat confusion matrix\n",
        "cm = confusion_matrix(y_true, y_pred)\n",
        "\n",
        "# Tampilkan sebagai heatmap\n",
        "plt.figure(figsize=(8, 6))\n",
        "sns.heatmap(cm, annot=True, fmt='d', cmap='Blues')\n",
        "plt.xlabel('Predicted Labels')\n",
        "plt.ylabel('True Labels')\n",
        "plt.title('Confusion Matrix')\n",
        "plt.show()\n",
        "\n",
        "# Tambahan: tampilkan precision, recall, f1-score\n",
        "print(classification_report(y_true, y_pred))"
      ]
    },
    {
      "cell_type": "code",
      "execution_count": null,
      "metadata": {},
      "outputs": [],
      "source": []
    }
  ],
  "metadata": {
    "accelerator": "GPU",
    "colab": {
      "gpuType": "T4",
      "provenance": []
    },
    "kernelspec": {
      "display_name": "Python 3",
      "name": "python3"
    },
    "language_info": {
      "codemirror_mode": {
        "name": "ipython",
        "version": 3
      },
      "file_extension": ".py",
      "mimetype": "text/x-python",
      "name": "python",
      "nbconvert_exporter": "python",
      "pygments_lexer": "ipython3",
      "version": "3.12.8"
    }
  },
  "nbformat": 4,
  "nbformat_minor": 0
}
